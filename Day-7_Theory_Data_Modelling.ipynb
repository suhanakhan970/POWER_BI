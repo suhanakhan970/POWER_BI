{
 "cells": [
  {
   "cell_type": "markdown",
   "id": "8e423280",
   "metadata": {},
   "source": [
    "1. Data Mining\n",
    "    ------ Data import in power bi from diffrent source\n",
    "     ----- Power BI Desktop,Power query Editor"
   ]
  },
  {
   "cell_type": "markdown",
   "id": "03f4444d",
   "metadata": {},
   "source": [
    "2.Data Cleaning and Transform\n",
    " -----Power query editor\n",
    " -----Data Profiling-Error,Valid,Blank\n",
    " -----Data clean and Replace\n",
    " -----Data Transform"
   ]
  },
  {
   "cell_type": "markdown",
   "id": "cc115469",
   "metadata": {},
   "source": [
    "3. Data Modelling\n",
    "----Data in Single Table-No need of modelling\n",
    "----Multiple Table-DataSet\n",
    "----To build relation with many Table\n",
    "\n",
    "*Data modeling is known as a methode known as a Schema\n",
    "    1. Star Schema\n",
    "    2.Snowflake Schema\n",
    "\n",
    "*Type of Table\n",
    "    1. Fact Table\n",
    "    2. Dimenssion Table\n",
    "    3. Subdimensional Table-Subdim table\n",
    "\n",
    "RELATIONSHIP\n",
    "1.Cardinality\n",
    "    *one to one-----both\n",
    "    *one to many----single or both\n",
    "    *many to one----single or both\n",
    "    *many to many---- left to right,right to left both  \n",
    "\n",
    " FILTER DIRECTION\n",
    "   -------single,left to right,right to left\n",
    "        *FACT TABLE\n",
    "        *Contain relation\n",
    "        *All importaant parameter\n",
    "        *no rrecords\n",
    "    ------Dim table\n",
    "    ---- data records\n",
    "    ------numerical\n",
    "    -------categorical\n",
    "    -------measurement,event,record    \n",
    "             \n"
   ]
  },
  {
   "cell_type": "markdown",
   "metadata": {},
   "source": []
  },
  {
   "cell_type": "markdown",
   "metadata": {},
   "source": []
  },
  {
   "cell_type": "markdown",
   "id": "bef32744",
   "metadata": {},
   "source": []
  },
  {
   "cell_type": "markdown",
   "id": "4771c7b9",
   "metadata": {},
   "source": []
  }
 ],
 "metadata": {
  "language_info": {
   "name": "python"
  }
 },
 "nbformat": 4,
 "nbformat_minor": 5
}
