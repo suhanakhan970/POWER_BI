{
 "cells": [
  {
   "cell_type": "markdown",
   "id": "b05c58a3",
   "metadata": {},
   "source": [
    "<h1>POWER BI</h1>"
   ]
  },
  {
   "cell_type": "markdown",
   "id": "3b965d39",
   "metadata": {},
   "source": [
    "<h5>\n",
    "\n",
    "1.Data Mining\n",
    "\n",
    "2.Data Cleaning and Transform(ETL)\n",
    "\n",
    "3.Data Modelling\n",
    "\n",
    "     --Schema\n",
    "\n",
    "       -Star Schema(fact,dim)\n",
    "\n",
    "       -Snowflake Schema(fact,dim,subdim)\n"
   ]
  },
  {
   "cell_type": "markdown",
   "id": "649e7aaa",
   "metadata": {},
   "source": []
  },
  {
   "cell_type": "markdown",
   "id": "b9797aaa",
   "metadata": {},
   "source": [
    "<h1>CALCULATIONS  DAX</h1>"
   ]
  },
  {
   "cell_type": "markdown",
   "id": "9044404c",
   "metadata": {},
   "source": [
    "\n",
    "<h4>EXCEL</h4>\n",
    "   ------"
   ]
  },
  {
   "cell_type": "markdown",
   "id": "e3bf5378",
   "metadata": {},
   "source": [
    "<h4>POWER BI</h4>\n",
    "\n",
    "<h5>----Functional (DAX)\n",
    "\n",
    "    ----Program Language(-M langauge)\n",
    "</h5>"
   ]
  },
  {
   "cell_type": "markdown",
   "id": "50a722ae",
   "metadata": {},
   "source": []
  },
  {
   "cell_type": "markdown",
   "id": "65e78014",
   "metadata": {},
   "source": [
    "<h4>-------Data analysis expression</h4>"
   ]
  },
  {
   "cell_type": "markdown",
   "id": "95ac517b",
   "metadata": {},
   "source": [
    "<h4>CALCULATIONS Options</h4>\n",
    "<h5>\n",
    "\n",
    "*New Measure\n",
    "\n",
    "    ----equation base calculation\n",
    "\n",
    "    -----saves expressions only\n",
    "\n",
    "    ----virtual calculation\n",
    "\n",
    "    ----No change in data size\n",
    "    \n",
    "*New COLUMN\n",
    "\n",
    "    ----Equation based calculation\n",
    "\n",
    "    ----physical calculation\n",
    "\n",
    "    ----Change in data size\n",
    "</h5>\n"
   ]
  },
  {
   "cell_type": "markdown",
   "id": "9fabab13",
   "metadata": {},
   "source": [
    "<h4>FUNCTIONS</h4>\n",
    "<h5>\n",
    "\n",
    "*Aggregate Functions\n",
    "\n",
    "  ---column\n",
    "  ---SUM\n",
    "\n",
    "*Iterator Function\n",
    "\n",
    "  ----Row(Table)\n",
    "  ----X\n",
    "  ----SUMX"
   ]
  },
  {
   "cell_type": "markdown",
   "id": "969bd76a",
   "metadata": {},
   "source": [
    "<h4>REFRENCE</h4>\n",
    "<h5>\n",
    "*Column----table(column)\n",
    "*Table"
   ]
  },
  {
   "cell_type": "markdown",
   "id": "62a519cd",
   "metadata": {},
   "source": [
    "<h1>FUNCTION LIST<h1>"
   ]
  },
  {
   "cell_type": "markdown",
   "id": "5d74d31c",
   "metadata": {},
   "source": [
    "<h4>\n",
    "\n",
    "1.Aggregate func\n",
    "\n",
    "2.Math Func\n",
    "\n",
    "3.Logical Func\n",
    "\n",
    "4.Text Func\n",
    "\n",
    "5.Date and Time func\n",
    "\n",
    "6.Time intelligence\n",
    "\n",
    "7.Filter Func\n",
    "\n",
    "8.Lookup Func\n",
    "\n",
    "9.calender func"
   ]
  },
  {
   "cell_type": "markdown",
   "id": "72f6726e",
   "metadata": {},
   "source": []
  },
  {
   "cell_type": "markdown",
   "id": "ea2e0724",
   "metadata": {},
   "source": [
    "<h4>AGGREAGTE FUNCTION</h4>\n",
    "<h5>min,max,count,avg</h5>"
   ]
  },
  {
   "cell_type": "markdown",
   "id": "5ded4099",
   "metadata": {},
   "source": [
    "<h4>ITERATOR FUNCTION</h4>\n",
    "<h5>SUMX(tables,Expression)"
   ]
  },
  {
   "cell_type": "markdown",
   "id": "d8207ec8",
   "metadata": {},
   "source": [
    "<h4>NEW COLUMN</h4>\n",
    "<h5>"
   ]
  },
  {
   "cell_type": "markdown",
   "id": "1b6cfb3a",
   "metadata": {},
   "source": []
  },
  {
   "cell_type": "markdown",
   "id": "b9b0ce6a",
   "metadata": {},
   "source": [
    "<h>"
   ]
  }
 ],
 "metadata": {
  "language_info": {
   "name": "python"
  }
 },
 "nbformat": 4,
 "nbformat_minor": 5
}
